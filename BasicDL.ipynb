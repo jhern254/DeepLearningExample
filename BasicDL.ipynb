{
  "nbformat": 4,
  "nbformat_minor": 0,
  "metadata": {
    "colab": {
      "name": "BasicDL.ipynb",
      "provenance": []
    },
    "kernelspec": {
      "name": "python3",
      "display_name": "Python 3"
    },
    "accelerator": "GPU"
  },
  "cells": [
    {
      "cell_type": "code",
      "metadata": {
        "id": "_oYCyTThUmIY",
        "colab_type": "code",
        "colab": {}
      },
      "source": [
        ""
      ],
      "execution_count": 0,
      "outputs": []
    },
    {
      "cell_type": "markdown",
      "metadata": {
        "id": "-41Tf8ODUyyi",
        "colab_type": "text"
      },
      "source": [
        "**Deep Learning Examples**\n",
        "\n",
        "Lecturer: Ashish Mahabal\n",
        "\n",
        "Jupyter Notebook Author: Kaushal Sharma, modified by Ashish Mahabal.\n",
        "\n",
        "This is a Jupyter notebook lesson extending the deep learning workshop at the Astronomical Society of India, Annual meeting, 2018 and adapted for the NARIT-EACOA 2019 summer workshop.\n",
        "\n",
        "**Objective**\n",
        "\n",
        "Introduce the user to deep learning using Python.\n",
        "\n",
        "**Key steps**\n",
        "* Run a model for few epochs\n",
        "\n",
        "**Required dependencies**\n",
        "\n",
        "Nominally, you should be able to install the python modules with pip install <module>. The external astromatic packages are easiest installed using package managers (e.g., rpm, apt-get).\n",
        "\n",
        "Python modules\n",
        "python 3\n",
        "* tensorflow\n",
        "* numpy\n",
        "* matplotlib\n",
        "* scikit-learn\n",
        "\n",
        "External packages\n",
        "\n",
        "None"
      ]
    },
    {
      "cell_type": "markdown",
      "metadata": {
        "id": "ZnN0ngoVViHg",
        "colab_type": "text"
      },
      "source": [
        "**Exercise 1: Using Neural network for more rigorous training**\n",
        "\n",
        "Train the neural network on different colors for classifying to check if other colors can help.# New Section"
      ]
    },
    {
      "cell_type": "code",
      "metadata": {
        "id": "lY2l7m4WGylj",
        "colab_type": "code",
        "colab": {
          "base_uri": "https://localhost:8080/",
          "height": 122
        },
        "outputId": "4c2af362-bbce-4641-cc8a-485179dd1465"
      },
      "source": [
        "from google.colab import drive\n",
        "drive.mount('/content/drive')"
      ],
      "execution_count": 2,
      "outputs": [
        {
          "output_type": "stream",
          "text": [
            "Go to this URL in a browser: https://accounts.google.com/o/oauth2/auth?client_id=947318989803-6bn6qk8qdgf4n4g3pfee6491hc0brc4i.apps.googleusercontent.com&redirect_uri=urn%3aietf%3awg%3aoauth%3a2.0%3aoob&response_type=code&scope=email%20https%3a%2f%2fwww.googleapis.com%2fauth%2fdocs.test%20https%3a%2f%2fwww.googleapis.com%2fauth%2fdrive%20https%3a%2f%2fwww.googleapis.com%2fauth%2fdrive.photos.readonly%20https%3a%2f%2fwww.googleapis.com%2fauth%2fpeopleapi.readonly\n",
            "\n",
            "Enter your authorization code:\n",
            "··········\n",
            "Mounted at /content/drive\n"
          ],
          "name": "stdout"
        }
      ]
    },
    {
      "cell_type": "code",
      "metadata": {
        "id": "GssFs5fZI5TV",
        "colab_type": "code",
        "colab": {}
      },
      "source": [
        "import sys\n",
        "datapath = '/content/drive/My Drive/Work/Teaching/UCR202002/data/'\n",
        "sys.path.insert(1, datapath)"
      ],
      "execution_count": 0,
      "outputs": []
    },
    {
      "cell_type": "code",
      "metadata": {
        "id": "N4sRKiUtRwDT",
        "colab_type": "code",
        "colab": {}
      },
      "source": [
        "import pandas as pd\n",
        "import numpy as np\n",
        "from sklearn.metrics import accuracy_score\n",
        "import matplotlib as mpl\n",
        "import matplotlib.pyplot as plt\n",
        "import matplotlib.ticker as ticker\n",
        "\n",
        "%matplotlib inline"
      ],
      "execution_count": 0,
      "outputs": []
    },
    {
      "cell_type": "code",
      "metadata": {
        "id": "_bL5EaYJRw86",
        "colab_type": "code",
        "colab": {
          "base_uri": "https://localhost:8080/",
          "height": 51
        },
        "outputId": "bc661d2b-2f1d-4890-d82d-e2c02f8bff64"
      },
      "source": [
        "# Read the files and prepare training and test matrices\n",
        "color_data = pd.read_csv(datapath + \"train_colors.csv\")\n",
        "\n",
        "# Calculate dereddended colors\n",
        "u_g = color_data['dered_u'] - color_data['dered_g']\n",
        "g_r = color_data['dered_g'] - color_data['dered_r']\n",
        "r_i = color_data['dered_r'] - color_data['dered_i']\n",
        "i_z = color_data['dered_i'] - color_data['dered_z']\n",
        "\n",
        "# Combine the columns generated with the original data frame\n",
        "color_data['u_g'] = u_g.values\n",
        "color_data['g_r'] = g_r.values\n",
        "color_data['r_i'] = r_i.values\n",
        "color_data['i_z'] = i_z.values\n",
        "\n",
        "train_in_colors = np.column_stack((u_g.values, g_r.values, r_i.values, i_z.values))\n",
        "train_out_colors = np.array(color_data['spiral'])\n",
        "\n",
        "# Testing data\n",
        "color_test_data = pd.read_csv(datapath + \"test_colors.csv\")\n",
        "\n",
        "# Calculate dereddended colors\n",
        "tu_g = color_test_data['dered_u'] - color_test_data['dered_g']\n",
        "tg_r = color_test_data['dered_g'] - color_test_data['dered_r']\n",
        "tr_i = color_test_data['dered_r'] - color_test_data['dered_i']\n",
        "ti_z = color_test_data['dered_i'] - color_test_data['dered_z']\n",
        "\n",
        "# Prepare test matrix and expected output\n",
        "test_in_colors = np.column_stack((tu_g.values, tg_r.values, tr_i.values, ti_z.values))\n",
        "test_out_colors = np.array(color_test_data['spiral'])\n",
        "\n",
        "print(\"Size of the training matrix: \", np.shape(train_in_colors), np.shape(train_out_colors))\n",
        "print(\"Size of the test matrix:     \", np.shape(test_in_colors), np.shape(test_out_colors))"
      ],
      "execution_count": 5,
      "outputs": [
        {
          "output_type": "stream",
          "text": [
            "Size of the training matrix:  (3000, 4) (3000,)\n",
            "Size of the test matrix:      (1000, 4) (1000,)\n"
          ],
          "name": "stdout"
        }
      ]
    },
    {
      "cell_type": "code",
      "metadata": {
        "id": "GQBXsShHSF5l",
        "colab_type": "code",
        "colab": {
          "base_uri": "https://localhost:8080/",
          "height": 63
        },
        "outputId": "b4f67bdf-577c-40ef-a8de-fb7e8057790f"
      },
      "source": [
        "import tensorflow as tf\n",
        "from tensorflow.keras.models import Sequential\n",
        "from tensorflow.keras.layers import Dense\n",
        "from sklearn.model_selection import StratifiedKFold\n",
        "from tensorflow.keras.utils import plot_model\n",
        "import pydot"
      ],
      "execution_count": 6,
      "outputs": [
        {
          "output_type": "display_data",
          "data": {
            "text/html": [
              "<p style=\"color: red;\">\n",
              "The default version of TensorFlow in Colab will soon switch to TensorFlow 2.x.<br>\n",
              "We recommend you <a href=\"https://www.tensorflow.org/guide/migrate\" target=\"_blank\">upgrade</a> now \n",
              "or ensure your notebook will continue to use TensorFlow 1.x via the <code>%tensorflow_version 1.x</code> magic:\n",
              "<a href=\"https://colab.research.google.com/notebooks/tensorflow_version.ipynb\" target=\"_blank\">more info</a>.</p>\n"
            ],
            "text/plain": [
              "<IPython.core.display.HTML object>"
            ]
          },
          "metadata": {
            "tags": []
          }
        }
      ]
    },
    {
      "cell_type": "code",
      "metadata": {
        "id": "GVdMpCBpSROV",
        "colab_type": "code",
        "colab": {
          "base_uri": "https://localhost:8080/",
          "height": 1000
        },
        "outputId": "3cac6ac7-e311-4a48-d15a-521da010bee6"
      },
      "source": [
        "# fix random seed for reproducibility\n",
        "seed = 7\n",
        "np.random.seed(seed)\n",
        "\n",
        "# Design a neural network\n",
        "model = Sequential()\n",
        "model.add(Dense(8, input_dim=4, activation='relu'))\n",
        "model.add(Dense(3, activation='relu'))\n",
        "model.add(Dense(1, activation='sigmoid'))\n",
        "\n",
        "# Compile model\n",
        "model.compile(loss='binary_crossentropy', optimizer='adam', metrics=['accuracy'])\n",
        "model.summary()\n",
        "plot_model(model, to_file=datapath + 'model.png', show_shapes=True, show_layer_names=True)\n",
        "\n",
        "# Fit the model\n",
        "model_info = model.fit(train_in_colors, train_out_colors, epochs=150, batch_size=10, validation_split=0.3, \n",
        "                       shuffle=True, verbose=2)\n",
        "# evaluate the model\n",
        "scores = model.evaluate(train_in_colors, train_out_colors)\n",
        "print(\"\\n%s: %.2f%%\" % (model.metrics_names[1], scores[1]*100))"
      ],
      "execution_count": 8,
      "outputs": [
        {
          "output_type": "stream",
          "text": [
            "Model: \"sequential_1\"\n",
            "_________________________________________________________________\n",
            "Layer (type)                 Output Shape              Param #   \n",
            "=================================================================\n",
            "dense_3 (Dense)              (None, 8)                 40        \n",
            "_________________________________________________________________\n",
            "dense_4 (Dense)              (None, 3)                 27        \n",
            "_________________________________________________________________\n",
            "dense_5 (Dense)              (None, 1)                 4         \n",
            "=================================================================\n",
            "Total params: 71\n",
            "Trainable params: 71\n",
            "Non-trainable params: 0\n",
            "_________________________________________________________________\n",
            "Train on 2100 samples, validate on 900 samples\n",
            "Epoch 1/150\n",
            "2100/2100 - 2s - loss: 0.7045 - acc: 0.4867 - val_loss: 0.6975 - val_acc: 0.4389\n",
            "Epoch 2/150\n",
            "2100/2100 - 1s - loss: 0.6921 - acc: 0.5248 - val_loss: 0.6983 - val_acc: 0.4389\n",
            "Epoch 3/150\n",
            "2100/2100 - 1s - loss: 0.6918 - acc: 0.5252 - val_loss: 0.6989 - val_acc: 0.4389\n",
            "Epoch 4/150\n",
            "2100/2100 - 1s - loss: 0.6915 - acc: 0.5257 - val_loss: 0.6992 - val_acc: 0.4400\n",
            "Epoch 5/150\n",
            "2100/2100 - 1s - loss: 0.6902 - acc: 0.5343 - val_loss: 0.6940 - val_acc: 0.4867\n",
            "Epoch 6/150\n",
            "2100/2100 - 1s - loss: 0.6836 - acc: 0.6138 - val_loss: 0.6824 - val_acc: 0.6656\n",
            "Epoch 7/150\n",
            "2100/2100 - 1s - loss: 0.6696 - acc: 0.7310 - val_loss: 0.6607 - val_acc: 0.7489\n",
            "Epoch 8/150\n",
            "2100/2100 - 1s - loss: 0.6489 - acc: 0.7419 - val_loss: 0.6316 - val_acc: 0.7456\n",
            "Epoch 9/150\n",
            "2100/2100 - 1s - loss: 0.6225 - acc: 0.7529 - val_loss: 0.6011 - val_acc: 0.7611\n",
            "Epoch 10/150\n",
            "2100/2100 - 1s - loss: 0.5930 - acc: 0.7590 - val_loss: 0.5725 - val_acc: 0.7744\n",
            "Epoch 11/150\n",
            "2100/2100 - 1s - loss: 0.5689 - acc: 0.7714 - val_loss: 0.5482 - val_acc: 0.7833\n",
            "Epoch 12/150\n",
            "2100/2100 - 1s - loss: 0.5441 - acc: 0.7876 - val_loss: 0.5230 - val_acc: 0.7900\n",
            "Epoch 13/150\n",
            "2100/2100 - 1s - loss: 0.5242 - acc: 0.8024 - val_loss: 0.5026 - val_acc: 0.7956\n",
            "Epoch 14/150\n",
            "2100/2100 - 1s - loss: 0.5075 - acc: 0.8076 - val_loss: 0.4875 - val_acc: 0.8033\n",
            "Epoch 15/150\n",
            "2100/2100 - 1s - loss: 0.4943 - acc: 0.8124 - val_loss: 0.4698 - val_acc: 0.8022\n",
            "Epoch 16/150\n",
            "2100/2100 - 1s - loss: 0.4815 - acc: 0.8133 - val_loss: 0.4580 - val_acc: 0.8044\n",
            "Epoch 17/150\n",
            "2100/2100 - 1s - loss: 0.4703 - acc: 0.8210 - val_loss: 0.4505 - val_acc: 0.8156\n",
            "Epoch 18/150\n",
            "2100/2100 - 1s - loss: 0.4611 - acc: 0.8267 - val_loss: 0.4386 - val_acc: 0.8000\n",
            "Epoch 19/150\n",
            "2100/2100 - 1s - loss: 0.4551 - acc: 0.8229 - val_loss: 0.4318 - val_acc: 0.8122\n",
            "Epoch 20/150\n",
            "2100/2100 - 1s - loss: 0.4474 - acc: 0.8195 - val_loss: 0.4282 - val_acc: 0.7989\n",
            "Epoch 21/150\n",
            "2100/2100 - 1s - loss: 0.4431 - acc: 0.8267 - val_loss: 0.4286 - val_acc: 0.8256\n",
            "Epoch 22/150\n",
            "2100/2100 - 1s - loss: 0.4386 - acc: 0.8286 - val_loss: 0.4221 - val_acc: 0.8278\n",
            "Epoch 23/150\n",
            "2100/2100 - 1s - loss: 0.4376 - acc: 0.8300 - val_loss: 0.4266 - val_acc: 0.8244\n",
            "Epoch 24/150\n",
            "2100/2100 - 1s - loss: 0.4320 - acc: 0.8319 - val_loss: 0.4149 - val_acc: 0.8300\n",
            "Epoch 25/150\n",
            "2100/2100 - 1s - loss: 0.4284 - acc: 0.8329 - val_loss: 0.4196 - val_acc: 0.8278\n",
            "Epoch 26/150\n",
            "2100/2100 - 1s - loss: 0.4249 - acc: 0.8381 - val_loss: 0.4159 - val_acc: 0.8278\n",
            "Epoch 27/150\n",
            "2100/2100 - 1s - loss: 0.4215 - acc: 0.8352 - val_loss: 0.4111 - val_acc: 0.8378\n",
            "Epoch 28/150\n",
            "2100/2100 - 1s - loss: 0.4194 - acc: 0.8390 - val_loss: 0.4117 - val_acc: 0.8333\n",
            "Epoch 29/150\n",
            "2100/2100 - 1s - loss: 0.4182 - acc: 0.8376 - val_loss: 0.4001 - val_acc: 0.8344\n",
            "Epoch 30/150\n",
            "2100/2100 - 1s - loss: 0.4153 - acc: 0.8381 - val_loss: 0.3936 - val_acc: 0.8278\n",
            "Epoch 31/150\n",
            "2100/2100 - 1s - loss: 0.4140 - acc: 0.8400 - val_loss: 0.3959 - val_acc: 0.8378\n",
            "Epoch 32/150\n",
            "2100/2100 - 1s - loss: 0.4139 - acc: 0.8352 - val_loss: 0.4068 - val_acc: 0.8367\n",
            "Epoch 33/150\n",
            "2100/2100 - 1s - loss: 0.4103 - acc: 0.8410 - val_loss: 0.3904 - val_acc: 0.8367\n",
            "Epoch 34/150\n",
            "2100/2100 - 1s - loss: 0.4076 - acc: 0.8410 - val_loss: 0.3885 - val_acc: 0.8367\n",
            "Epoch 35/150\n",
            "2100/2100 - 1s - loss: 0.4064 - acc: 0.8405 - val_loss: 0.4209 - val_acc: 0.8244\n",
            "Epoch 36/150\n",
            "2100/2100 - 1s - loss: 0.4068 - acc: 0.8419 - val_loss: 0.3865 - val_acc: 0.8400\n",
            "Epoch 37/150\n",
            "2100/2100 - 1s - loss: 0.4053 - acc: 0.8410 - val_loss: 0.3819 - val_acc: 0.8344\n",
            "Epoch 38/150\n",
            "2100/2100 - 1s - loss: 0.4017 - acc: 0.8457 - val_loss: 0.3810 - val_acc: 0.8378\n",
            "Epoch 39/150\n",
            "2100/2100 - 1s - loss: 0.4001 - acc: 0.8438 - val_loss: 0.3871 - val_acc: 0.8433\n",
            "Epoch 40/150\n",
            "2100/2100 - 1s - loss: 0.3989 - acc: 0.8476 - val_loss: 0.3811 - val_acc: 0.8444\n",
            "Epoch 41/150\n",
            "2100/2100 - 1s - loss: 0.3989 - acc: 0.8419 - val_loss: 0.3771 - val_acc: 0.8378\n",
            "Epoch 42/150\n",
            "2100/2100 - 1s - loss: 0.3962 - acc: 0.8452 - val_loss: 0.3846 - val_acc: 0.8422\n",
            "Epoch 43/150\n",
            "2100/2100 - 1s - loss: 0.3921 - acc: 0.8424 - val_loss: 0.3917 - val_acc: 0.8433\n",
            "Epoch 44/150\n",
            "2100/2100 - 1s - loss: 0.3876 - acc: 0.8500 - val_loss: 0.3751 - val_acc: 0.8222\n",
            "Epoch 45/150\n",
            "2100/2100 - 1s - loss: 0.3922 - acc: 0.8476 - val_loss: 0.3739 - val_acc: 0.8456\n",
            "Epoch 46/150\n",
            "2100/2100 - 1s - loss: 0.3868 - acc: 0.8510 - val_loss: 0.3975 - val_acc: 0.8411\n",
            "Epoch 47/150\n",
            "2100/2100 - 1s - loss: 0.3866 - acc: 0.8490 - val_loss: 0.3801 - val_acc: 0.8478\n",
            "Epoch 48/150\n",
            "2100/2100 - 1s - loss: 0.3851 - acc: 0.8548 - val_loss: 0.3688 - val_acc: 0.8300\n",
            "Epoch 49/150\n",
            "2100/2100 - 1s - loss: 0.3848 - acc: 0.8467 - val_loss: 0.3694 - val_acc: 0.8478\n",
            "Epoch 50/150\n",
            "2100/2100 - 1s - loss: 0.3834 - acc: 0.8524 - val_loss: 0.3901 - val_acc: 0.8467\n",
            "Epoch 51/150\n",
            "2100/2100 - 1s - loss: 0.3827 - acc: 0.8514 - val_loss: 0.3674 - val_acc: 0.8411\n",
            "Epoch 52/150\n",
            "2100/2100 - 1s - loss: 0.3829 - acc: 0.8429 - val_loss: 0.3834 - val_acc: 0.8478\n",
            "Epoch 53/150\n",
            "2100/2100 - 1s - loss: 0.3791 - acc: 0.8538 - val_loss: 0.3725 - val_acc: 0.8478\n",
            "Epoch 54/150\n",
            "2100/2100 - 1s - loss: 0.3794 - acc: 0.8529 - val_loss: 0.3829 - val_acc: 0.8467\n",
            "Epoch 55/150\n",
            "2100/2100 - 1s - loss: 0.3773 - acc: 0.8576 - val_loss: 0.3909 - val_acc: 0.8444\n",
            "Epoch 56/150\n",
            "2100/2100 - 1s - loss: 0.3783 - acc: 0.8500 - val_loss: 0.3931 - val_acc: 0.8444\n",
            "Epoch 57/150\n",
            "2100/2100 - 1s - loss: 0.3795 - acc: 0.8505 - val_loss: 0.3728 - val_acc: 0.8511\n",
            "Epoch 58/150\n",
            "2100/2100 - 1s - loss: 0.3767 - acc: 0.8562 - val_loss: 0.3658 - val_acc: 0.8511\n",
            "Epoch 59/150\n",
            "2100/2100 - 1s - loss: 0.3744 - acc: 0.8552 - val_loss: 0.3783 - val_acc: 0.8489\n",
            "Epoch 60/150\n",
            "2100/2100 - 1s - loss: 0.3765 - acc: 0.8529 - val_loss: 0.3629 - val_acc: 0.8489\n",
            "Epoch 61/150\n",
            "2100/2100 - 1s - loss: 0.3740 - acc: 0.8552 - val_loss: 0.3831 - val_acc: 0.8489\n",
            "Epoch 62/150\n",
            "2100/2100 - 1s - loss: 0.3752 - acc: 0.8529 - val_loss: 0.3823 - val_acc: 0.8522\n",
            "Epoch 63/150\n",
            "2100/2100 - 1s - loss: 0.3722 - acc: 0.8605 - val_loss: 0.3599 - val_acc: 0.8422\n",
            "Epoch 64/150\n",
            "2100/2100 - 1s - loss: 0.3731 - acc: 0.8571 - val_loss: 0.3612 - val_acc: 0.8478\n",
            "Epoch 65/150\n",
            "2100/2100 - 1s - loss: 0.3735 - acc: 0.8581 - val_loss: 0.3616 - val_acc: 0.8444\n",
            "Epoch 66/150\n",
            "2100/2100 - 1s - loss: 0.3726 - acc: 0.8576 - val_loss: 0.3716 - val_acc: 0.8533\n",
            "Epoch 67/150\n",
            "2100/2100 - 1s - loss: 0.3716 - acc: 0.8629 - val_loss: 0.3738 - val_acc: 0.8511\n",
            "Epoch 68/150\n",
            "2100/2100 - 1s - loss: 0.3715 - acc: 0.8595 - val_loss: 0.3784 - val_acc: 0.8489\n",
            "Epoch 69/150\n",
            "2100/2100 - 1s - loss: 0.3699 - acc: 0.8552 - val_loss: 0.3774 - val_acc: 0.8500\n",
            "Epoch 70/150\n",
            "2100/2100 - 1s - loss: 0.3682 - acc: 0.8567 - val_loss: 0.3668 - val_acc: 0.8544\n",
            "Epoch 71/150\n",
            "2100/2100 - 1s - loss: 0.3686 - acc: 0.8590 - val_loss: 0.3574 - val_acc: 0.8389\n",
            "Epoch 72/150\n",
            "2100/2100 - 1s - loss: 0.3709 - acc: 0.8590 - val_loss: 0.3687 - val_acc: 0.8533\n",
            "Epoch 73/150\n",
            "2100/2100 - 1s - loss: 0.3679 - acc: 0.8614 - val_loss: 0.3569 - val_acc: 0.8467\n",
            "Epoch 74/150\n",
            "2100/2100 - 1s - loss: 0.3686 - acc: 0.8605 - val_loss: 0.3622 - val_acc: 0.8189\n",
            "Epoch 75/150\n",
            "2100/2100 - 1s - loss: 0.3683 - acc: 0.8619 - val_loss: 0.3622 - val_acc: 0.8500\n",
            "Epoch 76/150\n",
            "2100/2100 - 1s - loss: 0.3663 - acc: 0.8557 - val_loss: 0.3562 - val_acc: 0.8444\n",
            "Epoch 77/150\n",
            "2100/2100 - 1s - loss: 0.3679 - acc: 0.8590 - val_loss: 0.3819 - val_acc: 0.8489\n",
            "Epoch 78/150\n",
            "2100/2100 - 1s - loss: 0.3688 - acc: 0.8586 - val_loss: 0.3593 - val_acc: 0.8478\n",
            "Epoch 79/150\n",
            "2100/2100 - 1s - loss: 0.3681 - acc: 0.8595 - val_loss: 0.3552 - val_acc: 0.8411\n",
            "Epoch 80/150\n",
            "2100/2100 - 1s - loss: 0.3669 - acc: 0.8605 - val_loss: 0.3571 - val_acc: 0.8478\n",
            "Epoch 81/150\n",
            "2100/2100 - 1s - loss: 0.3659 - acc: 0.8595 - val_loss: 0.3559 - val_acc: 0.8489\n",
            "Epoch 82/150\n",
            "2100/2100 - 1s - loss: 0.3661 - acc: 0.8610 - val_loss: 0.3577 - val_acc: 0.8500\n",
            "Epoch 83/150\n",
            "2100/2100 - 1s - loss: 0.3680 - acc: 0.8600 - val_loss: 0.3568 - val_acc: 0.8511\n",
            "Epoch 84/150\n",
            "2100/2100 - 1s - loss: 0.3656 - acc: 0.8586 - val_loss: 0.3683 - val_acc: 0.8567\n",
            "Epoch 85/150\n",
            "2100/2100 - 1s - loss: 0.3651 - acc: 0.8624 - val_loss: 0.3742 - val_acc: 0.8533\n",
            "Epoch 86/150\n",
            "2100/2100 - 1s - loss: 0.3660 - acc: 0.8581 - val_loss: 0.3891 - val_acc: 0.8522\n",
            "Epoch 87/150\n",
            "2100/2100 - 1s - loss: 0.3645 - acc: 0.8581 - val_loss: 0.3857 - val_acc: 0.8500\n",
            "Epoch 88/150\n",
            "2100/2100 - 1s - loss: 0.3645 - acc: 0.8600 - val_loss: 0.3674 - val_acc: 0.8556\n",
            "Epoch 89/150\n",
            "2100/2100 - 1s - loss: 0.3625 - acc: 0.8605 - val_loss: 0.3954 - val_acc: 0.8511\n",
            "Epoch 90/150\n",
            "2100/2100 - 1s - loss: 0.3643 - acc: 0.8614 - val_loss: 0.3674 - val_acc: 0.8589\n",
            "Epoch 91/150\n",
            "2100/2100 - 1s - loss: 0.3633 - acc: 0.8638 - val_loss: 0.3683 - val_acc: 0.8578\n",
            "Epoch 92/150\n",
            "2100/2100 - 1s - loss: 0.3623 - acc: 0.8605 - val_loss: 0.3667 - val_acc: 0.8578\n",
            "Epoch 93/150\n",
            "2100/2100 - 1s - loss: 0.3601 - acc: 0.8600 - val_loss: 0.3530 - val_acc: 0.8322\n",
            "Epoch 94/150\n",
            "2100/2100 - 1s - loss: 0.3629 - acc: 0.8605 - val_loss: 0.3595 - val_acc: 0.8544\n",
            "Epoch 95/150\n",
            "2100/2100 - 1s - loss: 0.3630 - acc: 0.8638 - val_loss: 0.3607 - val_acc: 0.8533\n",
            "Epoch 96/150\n",
            "2100/2100 - 1s - loss: 0.3627 - acc: 0.8614 - val_loss: 0.3543 - val_acc: 0.8511\n",
            "Epoch 97/150\n",
            "2100/2100 - 1s - loss: 0.3605 - acc: 0.8652 - val_loss: 0.3563 - val_acc: 0.8556\n",
            "Epoch 98/150\n",
            "2100/2100 - 1s - loss: 0.3607 - acc: 0.8667 - val_loss: 0.3615 - val_acc: 0.8544\n",
            "Epoch 99/150\n",
            "2100/2100 - 1s - loss: 0.3605 - acc: 0.8652 - val_loss: 0.3604 - val_acc: 0.8556\n",
            "Epoch 100/150\n",
            "2100/2100 - 1s - loss: 0.3622 - acc: 0.8638 - val_loss: 0.3677 - val_acc: 0.8556\n",
            "Epoch 101/150\n",
            "2100/2100 - 1s - loss: 0.3605 - acc: 0.8614 - val_loss: 0.3599 - val_acc: 0.8567\n",
            "Epoch 102/150\n",
            "2100/2100 - 1s - loss: 0.3610 - acc: 0.8629 - val_loss: 0.3629 - val_acc: 0.8556\n",
            "Epoch 103/150\n",
            "2100/2100 - 1s - loss: 0.3609 - acc: 0.8614 - val_loss: 0.3513 - val_acc: 0.8544\n",
            "Epoch 104/150\n",
            "2100/2100 - 1s - loss: 0.3620 - acc: 0.8638 - val_loss: 0.3548 - val_acc: 0.8533\n",
            "Epoch 105/150\n",
            "2100/2100 - 1s - loss: 0.3602 - acc: 0.8648 - val_loss: 0.3542 - val_acc: 0.8567\n",
            "Epoch 106/150\n",
            "2100/2100 - 1s - loss: 0.3622 - acc: 0.8576 - val_loss: 0.3709 - val_acc: 0.8556\n",
            "Epoch 107/150\n",
            "2100/2100 - 1s - loss: 0.3610 - acc: 0.8590 - val_loss: 0.3510 - val_acc: 0.8511\n",
            "Epoch 108/150\n",
            "2100/2100 - 1s - loss: 0.3604 - acc: 0.8619 - val_loss: 0.3667 - val_acc: 0.8589\n",
            "Epoch 109/150\n",
            "2100/2100 - 1s - loss: 0.3590 - acc: 0.8590 - val_loss: 0.3518 - val_acc: 0.8511\n",
            "Epoch 110/150\n",
            "2100/2100 - 1s - loss: 0.3600 - acc: 0.8610 - val_loss: 0.3513 - val_acc: 0.8367\n",
            "Epoch 111/150\n",
            "2100/2100 - 1s - loss: 0.3593 - acc: 0.8610 - val_loss: 0.3501 - val_acc: 0.8467\n",
            "Epoch 112/150\n",
            "2100/2100 - 1s - loss: 0.3604 - acc: 0.8619 - val_loss: 0.3671 - val_acc: 0.8567\n",
            "Epoch 113/150\n",
            "2100/2100 - 1s - loss: 0.3581 - acc: 0.8638 - val_loss: 0.3553 - val_acc: 0.8567\n",
            "Epoch 114/150\n",
            "2100/2100 - 1s - loss: 0.3593 - acc: 0.8595 - val_loss: 0.3561 - val_acc: 0.8600\n",
            "Epoch 115/150\n",
            "2100/2100 - 1s - loss: 0.3566 - acc: 0.8610 - val_loss: 0.3786 - val_acc: 0.8533\n",
            "Epoch 116/150\n",
            "2100/2100 - 1s - loss: 0.3591 - acc: 0.8667 - val_loss: 0.3491 - val_acc: 0.8356\n",
            "Epoch 117/150\n",
            "2100/2100 - 1s - loss: 0.3577 - acc: 0.8671 - val_loss: 0.3576 - val_acc: 0.8600\n",
            "Epoch 118/150\n",
            "2100/2100 - 1s - loss: 0.3583 - acc: 0.8624 - val_loss: 0.3620 - val_acc: 0.8544\n",
            "Epoch 119/150\n",
            "2100/2100 - 1s - loss: 0.3588 - acc: 0.8567 - val_loss: 0.3553 - val_acc: 0.8578\n",
            "Epoch 120/150\n",
            "2100/2100 - 1s - loss: 0.3568 - acc: 0.8633 - val_loss: 0.3655 - val_acc: 0.8556\n",
            "Epoch 121/150\n",
            "2100/2100 - 1s - loss: 0.3559 - acc: 0.8605 - val_loss: 0.3575 - val_acc: 0.8589\n",
            "Epoch 122/150\n",
            "2100/2100 - 1s - loss: 0.3581 - acc: 0.8600 - val_loss: 0.3686 - val_acc: 0.8556\n",
            "Epoch 123/150\n",
            "2100/2100 - 1s - loss: 0.3568 - acc: 0.8610 - val_loss: 0.3854 - val_acc: 0.8556\n",
            "Epoch 124/150\n",
            "2100/2100 - 1s - loss: 0.3561 - acc: 0.8624 - val_loss: 0.3498 - val_acc: 0.8500\n",
            "Epoch 125/150\n",
            "2100/2100 - 1s - loss: 0.3547 - acc: 0.8652 - val_loss: 0.3795 - val_acc: 0.8544\n",
            "Epoch 126/150\n",
            "2100/2100 - 1s - loss: 0.3593 - acc: 0.8610 - val_loss: 0.4010 - val_acc: 0.8511\n",
            "Epoch 127/150\n",
            "2100/2100 - 1s - loss: 0.3584 - acc: 0.8600 - val_loss: 0.3730 - val_acc: 0.8544\n",
            "Epoch 128/150\n",
            "2100/2100 - 1s - loss: 0.3586 - acc: 0.8633 - val_loss: 0.3571 - val_acc: 0.8589\n",
            "Epoch 129/150\n",
            "2100/2100 - 1s - loss: 0.3568 - acc: 0.8624 - val_loss: 0.3591 - val_acc: 0.8511\n",
            "Epoch 130/150\n",
            "2100/2100 - 1s - loss: 0.3574 - acc: 0.8638 - val_loss: 0.3625 - val_acc: 0.8544\n",
            "Epoch 131/150\n",
            "2100/2100 - 1s - loss: 0.3565 - acc: 0.8629 - val_loss: 0.3558 - val_acc: 0.8556\n",
            "Epoch 132/150\n",
            "2100/2100 - 1s - loss: 0.3556 - acc: 0.8614 - val_loss: 0.3681 - val_acc: 0.8533\n",
            "Epoch 133/150\n",
            "2100/2100 - 1s - loss: 0.3566 - acc: 0.8605 - val_loss: 0.3652 - val_acc: 0.8556\n",
            "Epoch 134/150\n",
            "2100/2100 - 1s - loss: 0.3572 - acc: 0.8648 - val_loss: 0.3601 - val_acc: 0.8589\n",
            "Epoch 135/150\n",
            "2100/2100 - 1s - loss: 0.3571 - acc: 0.8633 - val_loss: 0.3682 - val_acc: 0.8556\n",
            "Epoch 136/150\n",
            "2100/2100 - 1s - loss: 0.3598 - acc: 0.8652 - val_loss: 0.3498 - val_acc: 0.8522\n",
            "Epoch 137/150\n",
            "2100/2100 - 1s - loss: 0.3544 - acc: 0.8667 - val_loss: 0.3486 - val_acc: 0.8489\n",
            "Epoch 138/150\n",
            "2100/2100 - 1s - loss: 0.3555 - acc: 0.8648 - val_loss: 0.3562 - val_acc: 0.8567\n",
            "Epoch 139/150\n",
            "2100/2100 - 1s - loss: 0.3566 - acc: 0.8614 - val_loss: 0.3516 - val_acc: 0.8544\n",
            "Epoch 140/150\n",
            "2100/2100 - 1s - loss: 0.3569 - acc: 0.8633 - val_loss: 0.3728 - val_acc: 0.8556\n",
            "Epoch 141/150\n",
            "2100/2100 - 1s - loss: 0.3552 - acc: 0.8667 - val_loss: 0.3672 - val_acc: 0.8544\n",
            "Epoch 142/150\n",
            "2100/2100 - 1s - loss: 0.3565 - acc: 0.8643 - val_loss: 0.3490 - val_acc: 0.8489\n",
            "Epoch 143/150\n",
            "2100/2100 - 1s - loss: 0.3568 - acc: 0.8638 - val_loss: 0.3595 - val_acc: 0.8567\n",
            "Epoch 144/150\n",
            "2100/2100 - 1s - loss: 0.3544 - acc: 0.8657 - val_loss: 0.3543 - val_acc: 0.8567\n",
            "Epoch 145/150\n",
            "2100/2100 - 1s - loss: 0.3575 - acc: 0.8590 - val_loss: 0.3663 - val_acc: 0.8544\n",
            "Epoch 146/150\n",
            "2100/2100 - 1s - loss: 0.3542 - acc: 0.8605 - val_loss: 0.3623 - val_acc: 0.8533\n",
            "Epoch 147/150\n",
            "2100/2100 - 1s - loss: 0.3550 - acc: 0.8643 - val_loss: 0.3745 - val_acc: 0.8544\n",
            "Epoch 148/150\n",
            "2100/2100 - 1s - loss: 0.3549 - acc: 0.8671 - val_loss: 0.3668 - val_acc: 0.8556\n",
            "Epoch 149/150\n",
            "2100/2100 - 1s - loss: 0.3586 - acc: 0.8648 - val_loss: 0.3534 - val_acc: 0.8522\n",
            "Epoch 150/150\n",
            "2100/2100 - 1s - loss: 0.3549 - acc: 0.8629 - val_loss: 0.3559 - val_acc: 0.8578\n",
            "3000/3000 [==============================] - 0s 39us/sample - loss: 0.3523 - acc: 0.8650\n",
            "\n",
            "acc: 86.50%\n"
          ],
          "name": "stdout"
        }
      ]
    },
    {
      "cell_type": "code",
      "metadata": {
        "id": "e8HuOlejSwW3",
        "colab_type": "code",
        "colab": {
          "base_uri": "https://localhost:8080/",
          "height": 34
        },
        "outputId": "c224542e-7d43-4b79-c7ee-434298481906"
      },
      "source": [
        "# Test the trained model\n",
        "test_pred_colors = model.predict(test_in_colors)\n",
        "\n",
        "# Prediction are in probabilities. Round them to convert into binary sequence\n",
        "test_pred_colors = np.around(test_pred_colors)\n",
        "\n",
        "# Print accuracy score\n",
        "accuracy_score(test_out_colors, test_pred_colors)"
      ],
      "execution_count": 9,
      "outputs": [
        {
          "output_type": "execute_result",
          "data": {
            "text/plain": [
              "0.871"
            ]
          },
          "metadata": {
            "tags": []
          },
          "execution_count": 9
        }
      ]
    },
    {
      "cell_type": "code",
      "metadata": {
        "id": "-JACOqRiTUeT",
        "colab_type": "code",
        "colab": {
          "base_uri": "https://localhost:8080/",
          "height": 350
        },
        "outputId": "9f1eecd2-2139-48cc-bc9b-8409741f58fb"
      },
      "source": [
        "# Plot Accuracy and/or Loss as a Function of Number of Epoch\n",
        "\n",
        "def plot_model_history(model_history):\n",
        "    fig, axs = plt.subplots(1,2,figsize=(15,5))\n",
        "    # summarize history for accuracy\n",
        "    axs[0].plot(range(1,len(model_history.history[acckey])+1),model_history.history[acckey])\n",
        "    axs[0].plot(range(1,len(model_history.history[valacckey])+1),model_history.history[valacckey])\n",
        "    axs[0].set_title('Model Accuracy')\n",
        "    axs[0].set_ylabel('Accuracy')\n",
        "    axs[0].set_xlabel('Epoch')\n",
        "    axs[0].get_xaxis().set_minor_locator(mpl.ticker.AutoMinorLocator())\n",
        "    axs[0].get_yaxis().set_minor_locator(mpl.ticker.AutoMinorLocator())\n",
        "    axs[0].legend(['train', 'val'], loc='best')\n",
        "    # axs[0].tick_params(top=True, right=True, labeltop=True, labelright=True, which='both')\n",
        "    \n",
        "    # summarize history for loss\n",
        "    axs[1].plot(range(1,len(model_history.history['loss'])+1),model_history.history['loss'])\n",
        "    axs[1].plot(range(1,len(model_history.history['val_loss'])+1),model_history.history['val_loss'])\n",
        "    axs[1].set_title('Model Loss')\n",
        "    axs[1].set_ylabel('Loss')\n",
        "    axs[1].set_xlabel('Epoch')\n",
        "    axs[1].get_xaxis().set_minor_locator(mpl.ticker.AutoMinorLocator())\n",
        "    axs[1].get_yaxis().set_minor_locator(mpl.ticker.AutoMinorLocator())\n",
        "    axs[1].legend(['train', 'val'], loc='best')\n",
        "    plt.show()\n",
        "    \n",
        "plot_model_history(model_info)"
      ],
      "execution_count": 15,
      "outputs": [
        {
          "output_type": "display_data",
          "data": {
            "image/png": "[encoded data removed]",
            "text/plain": [
              "<Figure size 1080x360 with 2 Axes>"
            ]
          },
          "metadata": {
            "tags": []
          }
        }
      ]
    },
    {
      "cell_type": "code",
      "metadata": {
        "id": "GgWdO2V-TVyf",
        "colab_type": "code",
        "colab": {
          "base_uri": "https://localhost:8080/",
          "height": 34
        },
        "outputId": "84fd3a71-6820-44f0-c3ef-1f2e2c7862f6"
      },
      "source": [
        "model_info.history.keys()"
      ],
      "execution_count": 11,
      "outputs": [
        {
          "output_type": "execute_result",
          "data": {
            "text/plain": [
              "dict_keys(['loss', 'acc', 'val_loss', 'val_acc'])"
            ]
          },
          "metadata": {
            "tags": []
          },
          "execution_count": 11
        }
      ]
    },
    {
      "cell_type": "code",
      "metadata": {
        "id": "8mL19io-TbL7",
        "colab_type": "code",
        "colab": {}
      },
      "source": [
        "acckey = 'accuracy'\n",
        "valacckey = 'val_accuracy'\n",
        "acckey = 'acc'\n",
        "valacckey = 'val_acc'"
      ],
      "execution_count": 0,
      "outputs": []
    },
    {
      "cell_type": "code",
      "metadata": {
        "id": "-WP6WXYYTpWD",
        "colab_type": "code",
        "colab": {
          "base_uri": "https://localhost:8080/",
          "height": 68
        },
        "outputId": "42b5cbfa-bd4b-4176-8f1f-c84503c4afd2"
      },
      "source": [
        "# Use 10-fold cross validation for shuffling the validation sample\n",
        "kfold = StratifiedKFold(n_splits=2, shuffle=True, random_state=seed)\n",
        "cvscores = []\n",
        "for train, test in kfold.split(train_in_colors, train_out_colors):\n",
        "  # create model\n",
        "    model = Sequential()\n",
        "    model.add(Dense(8, input_dim=4, activation='relu'))\n",
        "    model.add(Dense(3, activation='relu'))\n",
        "    model.add(Dense(1, activation='sigmoid'))\n",
        "    # Compile model\n",
        "    model.compile(loss='binary_crossentropy', optimizer='adam', metrics=['accuracy'])\n",
        "    # Fit the model\n",
        "    model.fit(train_in_colors[train], train_out_colors[train], epochs=150, batch_size=10, verbose=0)\n",
        "    # evaluate the model\n",
        "    scores = model.evaluate(train_in_colors[test], train_out_colors[test], verbose=0)\n",
        "    print(\"%s: %.2f%%\" % (model.metrics_names[1], scores[1]*100))\n",
        "    cvscores.append(scores[1] * 100)\n",
        "print(\"%.2f%% (+/- %.2f%%)\" % (np.mean(cvscores), np.std(cvscores)))"
      ],
      "execution_count": 16,
      "outputs": [
        {
          "output_type": "stream",
          "text": [
            "acc: 83.27%\n",
            "acc: 84.67%\n",
            "83.97% (+/- 0.70%)\n"
          ],
          "name": "stdout"
        }
      ]
    },
    {
      "cell_type": "code",
      "metadata": {
        "id": "Yw4PdN_4UYLH",
        "colab_type": "code",
        "colab": {
          "base_uri": "https://localhost:8080/",
          "height": 34
        },
        "outputId": "d0852183-a907-4e4d-ac48-61b2bd8aac26"
      },
      "source": [
        "# Test the trained model\n",
        "test_pred_colors = model.predict(test_in_colors)\n",
        "\n",
        "# Prediction are in probabilities. Round them to convert into binary sequence\n",
        "test_pred_colors = np.around(test_pred_colors)\n",
        "\n",
        "# Print accuracy score\n",
        "accuracy_score(test_out_colors, test_pred_colors)"
      ],
      "execution_count": 17,
      "outputs": [
        {
          "output_type": "execute_result",
          "data": {
            "text/plain": [
              "0.854"
            ]
          },
          "metadata": {
            "tags": []
          },
          "execution_count": 17
        }
      ]
    },
    {
      "cell_type": "markdown",
      "metadata": {
        "id": "qO6lLcmmVutY",
        "colab_type": "text"
      },
      "source": [
        "# Exercise 2: Using Convolutional Neural network on images of galaxies for Ellipticals Spirals classification"
      ]
    },
    {
      "cell_type": "code",
      "metadata": {
        "id": "YucFbkGTVxfU",
        "colab_type": "code",
        "colab": {}
      },
      "source": [
        "# We are using keras framework with tensorflow as the backend\n",
        "# Convolutional Neural Networks are multi-layer neural networks that assume the input data to be images.\n",
        "\n",
        "# Sequential is simply a linear stack of neural network layers, and it's perfect for the type of \n",
        "# feed-forward CNN\n",
        "from tensorflow.keras.models import Sequential\n",
        "\n",
        "# Import the core layers from Keras which are used in almost any neural network\n",
        "from tensorflow.keras.layers import Dense, Flatten\n",
        "\n",
        "# Import CNN layers from Keras that will help us efficiently train on image data\n",
        "from tensorflow.keras.layers import Conv2D, MaxPooling2D\n",
        "\n",
        "# Helps to preprocess the images\n",
        "from tensorflow.keras.preprocessing.image import ImageDataGenerator"
      ],
      "execution_count": 0,
      "outputs": []
    },
    {
      "cell_type": "code",
      "metadata": {
        "id": "-MRRsgq2V18n",
        "colab_type": "code",
        "colab": {}
      },
      "source": [
        "# Create your model\n",
        "model = Sequential()\n",
        "\n",
        "# Add first convolutional layer. A full-color image with all 3 RGB channels will have a depth of 3.\n",
        "model.add(Conv2D(32, (3, 3), input_shape = (64, 64, 3), activation = 'relu'))\n",
        "\n",
        "# Define the maxpooling layer\n",
        "model.add(MaxPooling2D(pool_size=(2, 2), data_format=\"channels_first\"))\n",
        "\n",
        "# Layer which Flatten the data\n",
        "model.add(Flatten())\n",
        "\n",
        "# Add more layers to the network\n",
        "model.add(Dense(units = 128, activation = 'relu'))\n",
        "model.add(Dense(units = 1, activation = 'sigmoid'))\n",
        "\n",
        "# We need to compile the model. Declare the loss function and the optimizer (SGD, Adam, etc.).\n",
        "model.compile(optimizer = 'adam', loss = 'binary_crossentropy', metrics = ['accuracy'])"
      ],
      "execution_count": 0,
      "outputs": []
    },
    {
      "cell_type": "code",
      "metadata": {
        "id": "Ej026OHFV5iY",
        "colab_type": "code",
        "colab": {
          "base_uri": "https://localhost:8080/",
          "height": 51
        },
        "outputId": "94278b39-5e3b-4fd1-d759-488d58803566"
      },
      "source": [
        "# Preprocess the images\n",
        "train_datagen = ImageDataGenerator(rescale = 1./255, shear_range = 0.2, zoom_range = 0.2, horizontal_flip = True)\n",
        "test_datagen = ImageDataGenerator(rescale = 1./255)\n",
        "\n",
        "# Define the training and test set\n",
        "training_set = train_datagen.flow_from_directory(datapath + 'Training', target_size = (64, 64), batch_size = 32, class_mode = 'binary')\n",
        "test_set = test_datagen.flow_from_directory(datapath + 'Testing',target_size = (64, 64), batch_size = 32, class_mode = 'binary')"
      ],
      "execution_count": 20,
      "outputs": [
        {
          "output_type": "stream",
          "text": [
            "Found 1470 images belonging to 2 classes.\n",
            "Found 630 images belonging to 2 classes.\n"
          ],
          "name": "stdout"
        }
      ]
    },
    {
      "cell_type": "code",
      "metadata": {
        "id": "iRPujgh5WC14",
        "colab_type": "code",
        "colab": {
          "base_uri": "https://localhost:8080/",
          "height": 51
        },
        "outputId": "cb550e0d-26eb-476d-f095-83e6da36213b"
      },
      "source": [
        "# Train your model\n",
        "model.fit_generator(training_set, steps_per_epoch = 400, epochs = 2, validation_data = test_set, validation_steps = 2000)"
      ],
      "execution_count": 0,
      "outputs": [
        {
          "output_type": "stream",
          "text": [
            "Epoch 1/2\n",
            " 27/400 [=>............................] - ETA: 2:09:19 - loss: 0.6079 - acc: 0.7245"
          ],
          "name": "stdout"
        }
      ]
    },
    {
      "cell_type": "code",
      "metadata": {
        "id": "nK7YKOk1WIlY",
        "colab_type": "code",
        "colab": {}
      },
      "source": [
        ""
      ],
      "execution_count": 0,
      "outputs": []
    }
  ]
}